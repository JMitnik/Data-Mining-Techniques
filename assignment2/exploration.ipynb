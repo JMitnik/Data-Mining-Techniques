{
 "cells": [
  {
   "cell_type": "markdown",
   "metadata": {},
   "source": [
    "# Start of Data Exploration"
   ]
  },
  {
   "cell_type": "code",
   "execution_count": 5,
   "metadata": {},
   "outputs": [],
   "source": [
    "# Imports\n",
    "import sklearn as sk\n",
    "import pandas as pd"
   ]
  },
  {
   "cell_type": "code",
   "execution_count": null,
   "metadata": {},
   "outputs": [],
   "source": [
    "train_data = pd.read_csv('data/training_set_VU_DM.csv')\n",
    "train_data.head(5) # Show top 5"
   ]
  },
  {
   "cell_type": "markdown",
   "metadata": {},
   "source": [
    "# Manual Column exploration\n",
    "---\n",
    "## Main columns\n",
    "- `search_id` seems to represent each individual 'user'.\n",
    "- `booking_bool` is essentially the answer.\n",
    "\n",
    "## Categorical features\n",
    "The following features are categorical (to be onehot-encoded):\n",
    "\n",
    "User-specific\n",
    "- `site_id`: category of website Expedia used\n",
    "- `visitor_location_country_id`: categories of which country user is from\n",
    "- `srch_destination_id`: where did the user search from\n",
    "- `srch_saturday_night_bool`: boolean if stay includes staturday\n",
    "\n",
    "Hotel-specific:\n",
    "- `prop_id`: categories of associated hotels\n",
    "- `prop_brand_bool`: boolean if hotel is part of chain or not\n",
    "- `promotion_flag`: displaying promotion or not\n",
    "\n",
    "Expedia-specific vs competitors 1_8:\n",
    "- `comp{i}_rate`: if expedia has a lower price, do +1, 0 if same, -1 price is higher, null if no competitive data\n",
    "- `comp{i}_inv`: if competitor has no availability, +1, 0 if both have availability, null if no competitive data\n",
    "\n",
    "## Numerical features\n",
    "\n",
    "User-specific\n",
    "- `visitor_hist_starrating`: average of previous stars of associated user\n",
    "- `visitor_hist_adr_usd`: average of average price of hotels of associated user\n",
    "- `srch_length_of_stay`: number of nights stays **searched**\n",
    "- `srch_booking_window`: number of days ahead the start of booking window **searched**\n",
    "- `srch_adults_count`: number of adults **searched**\n",
    "- `srch_children_count`: number of children **searched**\n",
    "- `srch_room_count`: number of rooms **searched**\n",
    "- `random_bool`: if sort was random at time of search\n",
    "- `gross_booking_usd`: ❗Training-only❗ payment includign taxes, etc for hotel\n",
    "\n",
    "Hotel-specific\n",
    "- `prop_starrating`: star rating of hotel (1-5)\n",
    "- `prop_review_score`: average review score of hotel (1-5)\n",
    "- `prop_location_score_1`: score1 of hotel's location desirability\n",
    "- `prop_location_score_2`: score2 of hotel's location desirability\n",
    "- `prop_log_historical_price`: logarithm of average price of hotel lately (0 == not sold)\n",
    "- `price_usd`: displayed price of hotel.\n",
    "    - ❗ Important: Different countries have different conventions.\n",
    "    - Value can change per night\n",
    "- `srch_query_affinity_score`: log probability a hotel is clicked in internet searches\n",
    "\n",
    "User-hotel coupled:\n",
    "- `orig_destination_distance`: distance between hotel and customer at search-time (null means no distance calculated)\n",
    "\n",
    "Expedia-specific vs competitors 1_8:\n",
    "- `comp{i}_rate_percent_diff`: absolute difference between expedia and competitor's price, with null being no competitive data\n",
    "\n",
    "\n",
    "## Unknown type\n",
    "- `date_time`"
   ]
  },
  {
   "cell_type": "markdown",
   "metadata": {},
   "source": [
    "# Initial feature transformation"
   ]
  },
  {
   "cell_type": "code",
   "execution_count": 53,
   "metadata": {},
   "outputs": [],
   "source": [
    "# Imports for feature transformation\n",
    "from sklearn.impute import SimpleImputer\n",
    "from sklearn.compose import ColumnTransformer\n",
    "from sklearn.preprocessing import MinMaxScaler, OneHotEncoder"
   ]
  },
  {
   "cell_type": "code",
   "execution_count": null,
   "metadata": {},
   "outputs": [],
   "source": [
    "# Based on above specs, we encode our data"
   ]
  },
  {
   "cell_type": "markdown",
   "metadata": {},
   "source": [
    "# Initial model feature selection"
   ]
  },
  {
   "cell_type": "code",
   "execution_count": 49,
   "metadata": {},
   "outputs": [],
   "source": [
    "from sklearn.feature_selection import SelectFromModel\n",
    "from sklearn.svm import SVC"
   ]
  },
  {
   "cell_type": "code",
   "execution_count": 51,
   "metadata": {},
   "outputs": [],
   "source": [
    "model = SVC()\n",
    "feature_selector = SelectFromModel(model)"
   ]
  },
  {
   "cell_type": "code",
   "execution_count": null,
   "metadata": {},
   "outputs": [],
   "source": [
    "feature_selector()"
   ]
  }
 ],
 "metadata": {
  "kernelspec": {
   "display_name": "Python 3",
   "language": "python",
   "name": "python3"
  },
  "language_info": {
   "codemirror_mode": {
    "name": "ipython",
    "version": 3
   },
   "file_extension": ".py",
   "mimetype": "text/x-python",
   "name": "python",
   "nbconvert_exporter": "python",
   "pygments_lexer": "ipython3",
   "version": "3.7.4"
  }
 },
 "nbformat": 4,
 "nbformat_minor": 4
}
